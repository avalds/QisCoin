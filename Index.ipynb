{
 "cells": [
  {
   "cell_type": "markdown",
   "metadata": {},
   "source": [
    "# QisCoin\n",
    "\n",
    "In this work we toy with the idea of having an artificial agent playing a game whose rules follow the laws of quantum mechanics. We develop a simple didactic game relying on **IBM qiskit** to implement the logic; we wrap our game into the interface defined in the **OpenAI gym** framework; finally, we summon reinforcement learning agents from the **stable-baselines** library to learn and play our game.\n",
    "\n",
    "The following Jupyter notebooks will guide you through our game and our simulations:\n",
    "\n",
    "1. [Setting up](1-%20Setup.ipynb)- how to configure a conda environment to run our simulations. \n",
    "2. [Rules](2-%20Rules.ipynb)- read the description and the rules of our game.\n",
    "3. [Play QisCoin!](3-%20Game.ipynb)- try the game yourself. \n",
    "4. [AI playing v0](4-%20AI%20Agent%20v0.ipynb)- train an artificial agent playing a simplified version of QisCoin.\n",
    "5. [AI playing v1](5-%20AI%20Agent%20v1.ipynb)- train an artificial agent playing an advanced version of QisCoin.\n",
    "6. Comparison of AIs- compare different AI agents\n",
    "7. [Compete against the AI](7-%20Game%20Against%20AI.ipynb)- play the game against one of the previously trained AIs\n",
    "8. [Extensions](8-%20Extensions.ipynb)- future possible developments"
   ]
  }
 ],
 "metadata": {
  "kernelspec": {
   "display_name": "Python 3",
   "language": "python",
   "name": "python3"
  },
  "language_info": {
   "codemirror_mode": {
    "name": "ipython",
    "version": 3
   },
   "file_extension": ".py",
   "mimetype": "text/x-python",
   "name": "python",
   "nbconvert_exporter": "python",
   "pygments_lexer": "ipython3",
   "version": "3.7.5"
  }
 },
 "nbformat": 4,
 "nbformat_minor": 2
}
