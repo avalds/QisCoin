{
 "cells": [
  {
   "cell_type": "markdown",
   "metadata": {},
   "source": [
    "# Qcoin circuit\n",
    "press the >| Run to start.    \n",
    "It takes a short while for the packages to load the first time so be patient."
   ]
  },
  {
   "cell_type": "code",
   "execution_count": 1,
   "metadata": {},
   "outputs": [
    {
     "name": "stdout",
     "output_type": "stream",
     "text": [
      "Welcome to the Qcoin circuit\n",
      "Do you want to play 5, 10 or 20 games? 1\n",
      "Do you want easy(e), medium(m) or hard(h) difficulty? 1\n",
      "The timer starts in:\n",
      "3\n",
      "2\n",
      "1\n",
      "Go\n",
      "The circuit is!\n"
     ]
    },
    {
     "data": {
      "image/png": "[encoded data removed]",
      "text/plain": [
       "<Figure size 353.976x144.48 with 1 Axes>"
      ]
     },
     "metadata": {},
     "output_type": "display_data"
    },
    {
     "name": "stdout",
     "output_type": "stream",
     "text": [
      "heads(h)(1) or tails(t)(0)\n",
      "\n",
      "congrats :)\n",
      "You have won 1 of the 1 rounds you have played (100.0% winrate)\n",
      "Your time is: 0.73\n",
      "It was a highscore enter your name: \n",
      "highscores:\n",
      "No.|        Name        |     Score (%)      |     Time (sec)     \n",
      "---|--------------------|--------------------|--------------------\n",
      " 1 |     didnt look     |       100.0        |       0.64\n",
      "        \n",
      "---|--------------------|--------------------|--------------------\n",
      " 2 |         sh         |       100.0        |       0.67\n",
      "        \n",
      "---|--------------------|--------------------|--------------------\n",
      " 3 |     Lightning      |       100.0        |       0.73\n",
      "        \n",
      "---|--------------------|--------------------|--------------------\n",
      " 4 |                    |       100.0        |       0.73\n",
      "        \n",
      "---|--------------------|--------------------|--------------------\n",
      " 5 |       Test1        |       100.0        |       0.83\n",
      "        \n",
      "---|--------------------|--------------------|--------------------\n",
      " 6 |      1324546       |       100.0        |       0.85\n",
      "        \n",
      "---|--------------------|--------------------|--------------------\n",
      " 7 |         0          |       100.0        |       0.93\n",
      "        \n",
      "---|--------------------|--------------------|--------------------\n",
      " 8 |       Jeffy        |       100.0        |       1.22\n",
      "        \n",
      "---|--------------------|--------------------|--------------------\n",
      " 9 |     Lucky luke     |       100.0        |       1.48\n",
      "        \n",
      "---|--------------------|--------------------|--------------------\n",
      "10 |        123         |       100.0        |       1.49\n",
      "        \n"
     ]
    }
   ],
   "source": [
    "import timed_game as qc\n",
    "from IPython.display import display\n",
    "print(\"Welcome to the Qcoin circuit\")\n",
    "qc.play(visualization_mode = \"mpl\")"
   ]
  },
  {
   "cell_type": "code",
   "execution_count": null,
   "metadata": {},
   "outputs": [],
   "source": []
  }
 ],
 "metadata": {
  "kernelspec": {
   "display_name": "Python 3",
   "language": "python",
   "name": "python3"
  },
  "language_info": {
   "codemirror_mode": {
    "name": "ipython",
    "version": 3
   },
   "file_extension": ".py",
   "mimetype": "text/x-python",
   "name": "python",
   "nbconvert_exporter": "python",
   "pygments_lexer": "ipython3",
   "version": "3.7.2"
  }
 },
 "nbformat": 4,
 "nbformat_minor": 2
}
