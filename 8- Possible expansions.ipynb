{
 "cells": [
  {
   "cell_type": "markdown",
   "metadata": {},
   "source": [
    "# Possible expansions"
   ]
  },
  {
   "cell_type": "markdown",
   "metadata": {},
   "source": [
    "### More difficult circuits\n",
    "Right now QisCoin only applies gates to a single qubit however the game can be enhanced by adding more qubits which our qubit of interest (the coin) can be entangled with. We can even allow the user to see some measurements on the other qubits in the circuits."
   ]
  },
  {
   "cell_type": "markdown",
   "metadata": {},
   "source": [
    "### More engaging highscore\n",
    "Some of the circuits are deterministic. \n",
    "So anyone can get 100% score, therefore the game can be improved by also timing the participant\n",
    "\n",
    "test\n",
    "Because of the circuits sometimes deterministic nature it is often possible to get 100% on some of the games. \n",
    "In particular the __easy__ game mode. Therefore the scoreboard could benefit from a timing feature allowing for speed also to be a distinguishing.\n",
    "\n",
    "It can be expanded to also work with multiple qubits, which we entangle. \n",
    "Allowing perhaps the user to see the circuit as well as the output from measuring some of the entangled bits.\n",
    "This will allow for a more indepth, playful training with quantum circuits."
   ]
  }
 ],
 "metadata": {
  "kernelspec": {
   "display_name": "Python 3",
   "language": "python",
   "name": "python3"
  },
  "language_info": {
   "codemirror_mode": {
    "name": "ipython",
    "version": 3
   },
   "file_extension": ".py",
   "mimetype": "text/x-python",
   "name": "python",
   "nbconvert_exporter": "python",
   "pygments_lexer": "ipython3",
   "version": "3.7.2"
  }
 },
 "nbformat": 4,
 "nbformat_minor": 2
}
