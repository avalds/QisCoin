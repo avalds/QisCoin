{
 "cells": [
  {
   "cell_type": "markdown",
   "metadata": {},
   "source": [
    "# Qcoin circuit\n",
    "## Rules:\n",
    "1. You are given a quantum circuit on qubit with a fixed number of gates\n",
    "2. You try to guess the output of the quantum circuit.\n",
    "  1. If you are correct you get 1 point\n",
    "  2. If you are wrong you get 0 points\n",
    "3. repeat steps 1. and 2. n times to determine your score, and how fast you answered."
   ]
  },
  {
   "cell_type": "code",
   "execution_count": 2,
   "metadata": {},
   "outputs": [
    {
     "name": "stdout",
     "output_type": "stream",
     "text": [
      "Welcome to the Qcoin circuit\n",
      "Do you want to play 5, 10 or 20 games? Q\n",
      "Unrecognized please try again!\n",
      "Do you want to play 5, 10 or 20 games? 5\n",
      "Do you want easy(e), medium(m) or hard(h) difficulty? e\n",
      "The circuit is!\n"
     ]
    },
    {
     "data": {
      "image/png": "[encoded data removed]",
      "text/plain": [
       "<Figure size 474.376x144.48 with 1 Axes>"
      ]
     },
     "metadata": {},
     "output_type": "display_data"
    },
    {
     "name": "stdout",
     "output_type": "stream",
     "text": [
      "heads(h)(1) or tails(t)(0)\n",
      "q\n",
      "quit!\n"
     ]
    }
   ],
   "source": [
    "import qiscoin as qc\n",
    "from IPython.display import display\n",
    "print(\"Welcome to the Qcoin circuit\")\n",
    "qc.play(visualization_mode = \"mpl\")"
   ]
  },
  {
   "cell_type": "code",
   "execution_count": null,
   "metadata": {},
   "outputs": [],
   "source": []
  }
 ],
 "metadata": {
  "kernelspec": {
   "display_name": "Python 3",
   "language": "python",
   "name": "python3"
  },
  "language_info": {
   "codemirror_mode": {
    "name": "ipython",
    "version": 3
   },
   "file_extension": ".py",
   "mimetype": "text/x-python",
   "name": "python",
   "nbconvert_exporter": "python",
   "pygments_lexer": "ipython3",
   "version": "3.7.2"
  }
 },
 "nbformat": 4,
 "nbformat_minor": 2
}
