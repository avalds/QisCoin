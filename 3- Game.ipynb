{
 "cells": [
  {
   "cell_type": "markdown",
   "metadata": {},
   "source": [
    "# QisCoin Game\n",
    "Press the button >| Run to start.\n",
    "\n",
    "*Warning:* it takes a short while for the packages to load the first time, so be patient. Also, on the first run, matplotlib may not load properly; if so, please exit the game (typing 'quit' o 'q') and restart."
   ]
  },
  {
   "cell_type": "code",
   "execution_count": 2,
   "metadata": {},
   "outputs": [
    {
     "name": "stdout",
     "output_type": "stream",
     "text": [
      "You have won 1 of the 2 rounds you have played (50.0% winrate)\n",
      "The circuit is!\n"
     ]
    },
    {
     "data": {
      "image/png": "[encoded data removed]",
      "text/plain": [
       "<Figure size 534.576x144.48 with 1 Axes>"
      ]
     },
     "metadata": {},
     "output_type": "display_data"
    },
    {
     "name": "stdout",
     "output_type": "stream",
     "text": [
      "heads(h)(1) or tails(t)(0)\n",
      "quit\n",
      "quit!\n"
     ]
    }
   ],
   "source": [
    "import timed_game as game\n",
    "from IPython.display import display\n",
    "\n",
    "print(\"Welcome to the QisCoin circuit\")\n",
    "\n",
    "game.play(visualization_mode = \"mpl\")"
   ]
  },
  {
   "cell_type": "markdown",
   "metadata": {},
   "source": [
    "**Thanks for playing!** :)"
   ]
  }
 ],
 "metadata": {
  "kernelspec": {
   "display_name": "Python 3",
   "language": "python",
   "name": "python3"
  },
  "language_info": {
   "codemirror_mode": {
    "name": "ipython",
    "version": 3
   },
   "file_extension": ".py",
   "mimetype": "text/x-python",
   "name": "python",
   "nbconvert_exporter": "python",
   "pygments_lexer": "ipython3",
   "version": "3.7.5"
  }
 },
 "nbformat": 4,
 "nbformat_minor": 2
}
