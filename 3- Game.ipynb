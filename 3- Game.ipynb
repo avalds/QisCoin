{
 "cells": [
  {
   "cell_type": "markdown",
   "metadata": {},
   "source": [
    "# QisCoin Game\n",
    "Press the button >| Run to start.    \n",
    "It takes a short while for the packages to load the first time so be patient."
   ]
  },
  {
   "cell_type": "code",
   "execution_count": 2,
   "metadata": {},
   "outputs": [
    {
     "name": "stdout",
     "output_type": "stream",
     "text": [
      "Welcome to the Qcoin circuit\n",
      "Do you want to play 5, 10 or 20 games? 5\n",
      "Do you want easy(e), medium(m) or hard(h) difficulty? 1\n",
      "The circuit is!\n"
     ]
    },
    {
     "data": {
      "image/png": "[encoded data removed]",
      "text/plain": [
       "<Figure size 414.176x144.48 with 1 Axes>"
      ]
     },
     "metadata": {},
     "output_type": "display_data"
    },
    {
     "name": "stdout",
     "output_type": "stream",
     "text": [
      "heads(h)(1) or tails(t)(0)\n",
      "\n",
      "too bad :(\n",
      "You have won 0 of the 1 rounds you have played (0.0% winrate)\n",
      "The circuit is!\n"
     ]
    },
    {
     "data": {
      "image/png": "[encoded data removed]",
      "text/plain": [
       "<Figure size 414.176x144.48 with 1 Axes>"
      ]
     },
     "metadata": {},
     "output_type": "display_data"
    },
    {
     "name": "stdout",
     "output_type": "stream",
     "text": [
      "heads(h)(1) or tails(t)(0)\n",
      "\n",
      "too bad :(\n",
      "You have won 0 of the 2 rounds you have played (0.0% winrate)\n",
      "The circuit is!\n"
     ]
    },
    {
     "data": {
      "image/png": "[encoded data removed]",
      "text/plain": [
       "<Figure size 474.376x144.48 with 1 Axes>"
      ]
     },
     "metadata": {},
     "output_type": "display_data"
    },
    {
     "name": "stdout",
     "output_type": "stream",
     "text": [
      "heads(h)(1) or tails(t)(0)\n",
      "\n",
      "too bad :(\n",
      "You have won 0 of the 3 rounds you have played (0.0% winrate)\n",
      "The circuit is!\n"
     ]
    },
    {
     "data": {
      "image/png": "[encoded data removed]",
      "text/plain": [
       "<Figure size 414.176x144.48 with 1 Axes>"
      ]
     },
     "metadata": {},
     "output_type": "display_data"
    },
    {
     "name": "stdout",
     "output_type": "stream",
     "text": [
      "heads(h)(1) or tails(t)(0)\n",
      "\n",
      "too bad :(\n",
      "You have won 0 of the 4 rounds you have played (0.0% winrate)\n",
      "The circuit is!\n"
     ]
    },
    {
     "data": {
      "image/png": "[encoded data removed]",
      "text/plain": [
       "<Figure size 353.976x144.48 with 1 Axes>"
      ]
     },
     "metadata": {},
     "output_type": "display_data"
    },
    {
     "name": "stdout",
     "output_type": "stream",
     "text": [
      "heads(h)(1) or tails(t)(0)\n",
      "\n",
      "congrats :)\n",
      "You have won 1 of the 5 rounds you have played (20.0% winrate)\n",
      "It was a highscore enter your name: \n",
      "highscores:\n",
      "                Name|Score (%)           \n",
      "                    |20.0                \n",
      "             Baldric|0.0                 \n"
     ]
    }
   ],
   "source": [
    "import game as qc\n",
    "from IPython.display import display\n",
    "print(\"Welcome to the QisCoin game\")\n",
    "qc.play(visualization_mode = \"mpl\")"
   ]
  },
  {
   "cell_type": "code",
   "execution_count": null,
   "metadata": {
    "collapsed": true
   },
   "outputs": [],
   "source": []
  }
 ],
 "metadata": {
  "kernelspec": {
   "display_name": "Python 3",
   "language": "python",
   "name": "python3"
  },
  "language_info": {
   "codemirror_mode": {
    "name": "ipython",
    "version": 3
   },
   "file_extension": ".py",
   "mimetype": "text/x-python",
   "name": "python",
   "nbconvert_exporter": "python",
   "pygments_lexer": "ipython3",
   "version": "3.7.5"
  }
 },
 "nbformat": 4,
 "nbformat_minor": 2
}
