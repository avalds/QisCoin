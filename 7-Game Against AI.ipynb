{
 "cells": [
  {
   "cell_type": "markdown",
   "metadata": {},
   "source": [
    "# QisCoin Game against the AI\n",
    "Press the button >| Run to start.    \n",
    "It takes a short while for the packages to load the first time so be patient."
   ]
  },
  {
   "cell_type": "code",
   "execution_count": 1,
   "metadata": {},
   "outputs": [
    {
     "name": "stderr",
     "output_type": "stream",
     "text": [
      "c:\\users\\avald\\anaconda3\\envs\\qai\\lib\\site-packages\\tensorflow\\python\\framework\\dtypes.py:516: FutureWarning: Passing (type, 1) or '1type' as a synonym of type is deprecated; in a future version of numpy, it will be understood as (type, (1,)) / '(1,)type'.\n",
      "  _np_qint8 = np.dtype([(\"qint8\", np.int8, 1)])\n",
      "c:\\users\\avald\\anaconda3\\envs\\qai\\lib\\site-packages\\tensorflow\\python\\framework\\dtypes.py:517: FutureWarning: Passing (type, 1) or '1type' as a synonym of type is deprecated; in a future version of numpy, it will be understood as (type, (1,)) / '(1,)type'.\n",
      "  _np_quint8 = np.dtype([(\"quint8\", np.uint8, 1)])\n",
      "c:\\users\\avald\\anaconda3\\envs\\qai\\lib\\site-packages\\tensorflow\\python\\framework\\dtypes.py:518: FutureWarning: Passing (type, 1) or '1type' as a synonym of type is deprecated; in a future version of numpy, it will be understood as (type, (1,)) / '(1,)type'.\n",
      "  _np_qint16 = np.dtype([(\"qint16\", np.int16, 1)])\n",
      "c:\\users\\avald\\anaconda3\\envs\\qai\\lib\\site-packages\\tensorflow\\python\\framework\\dtypes.py:519: FutureWarning: Passing (type, 1) or '1type' as a synonym of type is deprecated; in a future version of numpy, it will be understood as (type, (1,)) / '(1,)type'.\n",
      "  _np_quint16 = np.dtype([(\"quint16\", np.uint16, 1)])\n",
      "c:\\users\\avald\\anaconda3\\envs\\qai\\lib\\site-packages\\tensorflow\\python\\framework\\dtypes.py:520: FutureWarning: Passing (type, 1) or '1type' as a synonym of type is deprecated; in a future version of numpy, it will be understood as (type, (1,)) / '(1,)type'.\n",
      "  _np_qint32 = np.dtype([(\"qint32\", np.int32, 1)])\n",
      "c:\\users\\avald\\anaconda3\\envs\\qai\\lib\\site-packages\\tensorflow\\python\\framework\\dtypes.py:525: FutureWarning: Passing (type, 1) or '1type' as a synonym of type is deprecated; in a future version of numpy, it will be understood as (type, (1,)) / '(1,)type'.\n",
      "  np_resource = np.dtype([(\"resource\", np.ubyte, 1)])\n",
      "c:\\users\\avald\\anaconda3\\envs\\qai\\lib\\site-packages\\tensorboard\\compat\\tensorflow_stub\\dtypes.py:541: FutureWarning: Passing (type, 1) or '1type' as a synonym of type is deprecated; in a future version of numpy, it will be understood as (type, (1,)) / '(1,)type'.\n",
      "  _np_qint8 = np.dtype([(\"qint8\", np.int8, 1)])\n",
      "c:\\users\\avald\\anaconda3\\envs\\qai\\lib\\site-packages\\tensorboard\\compat\\tensorflow_stub\\dtypes.py:542: FutureWarning: Passing (type, 1) or '1type' as a synonym of type is deprecated; in a future version of numpy, it will be understood as (type, (1,)) / '(1,)type'.\n",
      "  _np_quint8 = np.dtype([(\"quint8\", np.uint8, 1)])\n",
      "c:\\users\\avald\\anaconda3\\envs\\qai\\lib\\site-packages\\tensorboard\\compat\\tensorflow_stub\\dtypes.py:543: FutureWarning: Passing (type, 1) or '1type' as a synonym of type is deprecated; in a future version of numpy, it will be understood as (type, (1,)) / '(1,)type'.\n",
      "  _np_qint16 = np.dtype([(\"qint16\", np.int16, 1)])\n",
      "c:\\users\\avald\\anaconda3\\envs\\qai\\lib\\site-packages\\tensorboard\\compat\\tensorflow_stub\\dtypes.py:544: FutureWarning: Passing (type, 1) or '1type' as a synonym of type is deprecated; in a future version of numpy, it will be understood as (type, (1,)) / '(1,)type'.\n",
      "  _np_quint16 = np.dtype([(\"quint16\", np.uint16, 1)])\n",
      "c:\\users\\avald\\anaconda3\\envs\\qai\\lib\\site-packages\\tensorboard\\compat\\tensorflow_stub\\dtypes.py:545: FutureWarning: Passing (type, 1) or '1type' as a synonym of type is deprecated; in a future version of numpy, it will be understood as (type, (1,)) / '(1,)type'.\n",
      "  _np_qint32 = np.dtype([(\"qint32\", np.int32, 1)])\n",
      "c:\\users\\avald\\anaconda3\\envs\\qai\\lib\\site-packages\\tensorboard\\compat\\tensorflow_stub\\dtypes.py:550: FutureWarning: Passing (type, 1) or '1type' as a synonym of type is deprecated; in a future version of numpy, it will be understood as (type, (1,)) / '(1,)type'.\n",
      "  np_resource = np.dtype([(\"resource\", np.ubyte, 1)])\n"
     ]
    },
    {
     "name": "stdout",
     "output_type": "stream",
     "text": [
      "Welcome to the QisCoin game\n",
      "Do you want to play 5, 10 or 20 games? 5\n",
      "Do you want to play against PPO2(p)(1), A2C(a)(2) or ACER(c)(3) agent?1\n",
      "Loading a model without an environment, this model cannot be trained until it has a valid environment.\n",
      "WARNING:tensorflow:From c:\\users\\avald\\anaconda3\\envs\\qai\\lib\\site-packages\\stable_baselines\\common\\tf_util.py:57: The name tf.ConfigProto is deprecated. Please use tf.compat.v1.ConfigProto instead.\n",
      "\n",
      "WARNING:tensorflow:From c:\\users\\avald\\anaconda3\\envs\\qai\\lib\\site-packages\\stable_baselines\\common\\tf_util.py:66: The name tf.Session is deprecated. Please use tf.compat.v1.Session instead.\n",
      "\n",
      "WARNING:tensorflow:From c:\\users\\avald\\anaconda3\\envs\\qai\\lib\\site-packages\\stable_baselines\\common\\policies.py:115: The name tf.variable_scope is deprecated. Please use tf.compat.v1.variable_scope instead.\n",
      "\n",
      "WARNING:tensorflow:From c:\\users\\avald\\anaconda3\\envs\\qai\\lib\\site-packages\\stable_baselines\\common\\input.py:42: The name tf.placeholder is deprecated. Please use tf.compat.v1.placeholder instead.\n",
      "\n",
      "WARNING:tensorflow:From c:\\users\\avald\\anaconda3\\envs\\qai\\lib\\site-packages\\stable_baselines\\common\\policies.py:562: flatten (from tensorflow.python.layers.core) is deprecated and will be removed in a future version.\n",
      "Instructions for updating:\n",
      "Use keras.layers.flatten instead.\n",
      "WARNING:tensorflow:From c:\\users\\avald\\anaconda3\\envs\\qai\\lib\\site-packages\\stable_baselines\\a2c\\utils.py:156: The name tf.get_variable is deprecated. Please use tf.compat.v1.get_variable instead.\n",
      "\n",
      "WARNING:tensorflow:From c:\\users\\avald\\anaconda3\\envs\\qai\\lib\\site-packages\\stable_baselines\\ppo2\\ppo2.py:193: The name tf.summary.scalar is deprecated. Please use tf.compat.v1.summary.scalar instead.\n",
      "\n",
      "WARNING:tensorflow:From c:\\users\\avald\\anaconda3\\envs\\qai\\lib\\site-packages\\tensorflow\\python\\ops\\math_grad.py:1250: add_dispatch_support.<locals>.wrapper (from tensorflow.python.ops.array_ops) is deprecated and will be removed in a future version.\n",
      "Instructions for updating:\n",
      "Use tf.where in 2.0, which has the same broadcast rule as np.where\n",
      "WARNING:tensorflow:From c:\\users\\avald\\anaconda3\\envs\\qai\\lib\\site-packages\\stable_baselines\\ppo2\\ppo2.py:209: The name tf.train.AdamOptimizer is deprecated. Please use tf.compat.v1.train.AdamOptimizer instead.\n",
      "\n",
      "WARNING:tensorflow:From c:\\users\\avald\\anaconda3\\envs\\qai\\lib\\site-packages\\stable_baselines\\ppo2\\ppo2.py:245: The name tf.summary.merge_all is deprecated. Please use tf.compat.v1.summary.merge_all instead.\n",
      "\n",
      "You will probably not beat the AI in time, but try to beat it in accuracy :)\n",
      "Press enter when you are ready:>>>\n",
      "The circuit is!\n"
     ]
    },
    {
     "data": {
      "image/png": "[encoded data removed]",
      "text/plain": [
       "<Figure size 594.776x144.48 with 1 Axes>"
      ]
     },
     "metadata": {},
     "output_type": "display_data"
    },
    {
     "name": "stdout",
     "output_type": "stream",
     "text": [
      "heads(h)(1) or tails(t)(0)\n",
      "1\n",
      "\n",
      "\n",
      "\n",
      "\n",
      "\n",
      "\n",
      "\n",
      "\n",
      "\n",
      "AI guess: Tails(0), in contrast to you!\n",
      "The coin was Heads(1)\n",
      "\n",
      "Players :  You-PPO2 \n",
      " Score  :    1-0    \n",
      "  Time  : 4.71-0.034\n",
      "Press enter when you are ready:>>>\n",
      "The circuit is!\n"
     ]
    },
    {
     "data": {
      "image/png": "[encoded data removed]",
      "text/plain": [
       "<Figure size 534.576x144.48 with 1 Axes>"
      ]
     },
     "metadata": {},
     "output_type": "display_data"
    },
    {
     "name": "stdout",
     "output_type": "stream",
     "text": [
      "heads(h)(1) or tails(t)(0)\n",
      "0\n",
      "\n",
      "\n",
      "\n",
      "\n",
      "\n",
      "\n",
      "\n",
      "\n",
      "\n",
      "AI guess: Tails(0), the same as you :)\n",
      "The coin was Heads(1)\n",
      "\n",
      "Players :  You-PPO2 \n",
      " Score  :    1-0    \n",
      "  Time  : 7.44-0.034\n",
      "Press enter when you are ready:>>>\n",
      "The circuit is!\n"
     ]
    },
    {
     "data": {
      "image/png": "[encoded data removed]",
      "text/plain": [
       "<Figure size 534.576x144.48 with 1 Axes>"
      ]
     },
     "metadata": {},
     "output_type": "display_data"
    },
    {
     "name": "stdout",
     "output_type": "stream",
     "text": [
      "heads(h)(1) or tails(t)(0)\n",
      "0\n",
      "\n",
      "\n",
      "\n",
      "\n",
      "\n",
      "\n",
      "\n",
      "\n",
      "\n",
      "AI guess: Tails(0), the same as you :)\n",
      "The coin was Heads(1)\n",
      "\n",
      "Players :  You-PPO2 \n",
      " Score  :    1-0    \n",
      "  Time  :10.94-0.035\n",
      "Press enter when you are ready:>>>\n",
      "The circuit is!\n"
     ]
    },
    {
     "data": {
      "image/png": "[encoded data removed]",
      "text/plain": [
       "<Figure size 594.776x144.48 with 1 Axes>"
      ]
     },
     "metadata": {},
     "output_type": "display_data"
    },
    {
     "name": "stdout",
     "output_type": "stream",
     "text": [
      "heads(h)(1) or tails(t)(0)\n",
      "0\n",
      "\n",
      "\n",
      "\n",
      "\n",
      "\n",
      "\n",
      "\n",
      "\n",
      "\n",
      "AI guess: Tails(0), the same as you :)\n",
      "The coin was Tails(0)\n",
      "\n",
      "Players :  You-PPO2 \n",
      " Score  :    2-1    \n",
      "  Time  :11.87-0.036\n",
      "Press enter when you are ready:>>>\n",
      "The circuit is!\n"
     ]
    },
    {
     "data": {
      "image/png": "[encoded data removed]",
      "text/plain": [
       "<Figure size 654.976x144.48 with 1 Axes>"
      ]
     },
     "metadata": {},
     "output_type": "display_data"
    },
    {
     "name": "stdout",
     "output_type": "stream",
     "text": [
      "heads(h)(1) or tails(t)(0)\n",
      "1\n",
      "\n",
      "\n",
      "\n",
      "\n",
      "\n",
      "\n",
      "\n",
      "\n",
      "\n",
      "AI guess: Tails(0), in contrast to you!\n",
      "The coin was Heads(1)\n",
      "\n",
      "Players :  You-PPO2 \n",
      " Score  :    3-1    \n",
      "  Time  :14.19-0.037\n",
      "YOU BEAT THE AI!!!!!!\n",
      "It was a highscore enter your name: \n",
      "highscores:\n",
      "No.|             Name             |     Score (%)      |     Time (sec)     Won?\n",
      "---|------------------------------|--------------------|------------------------\n",
      " 1 |Overly long name!!!!!!!!!!!!!!|       100.0        |       15.29        Yes \n",
      "---|------------------------------|--------------------|------------------------\n",
      " 2 |           A2C(AI)            |        80.0        |       0.034        Yes \n",
      "---|------------------------------|--------------------|------------------------\n",
      " 3 |          AI killer           |        80.0        |       10.88        Yes \n",
      "---|------------------------------|--------------------|------------------------\n",
      " 4 |           PPO2(AI)           |        60.0        |       0.036         No \n",
      "---|------------------------------|--------------------|------------------------\n",
      " 5 |           ACER(AI)           |        60.0        |       0.0445        No \n",
      "---|------------------------------|--------------------|------------------------\n",
      " 6 |          Next time           |        60.0        |        13.4         No \n",
      "---|------------------------------|--------------------|------------------------\n",
      " 7 |                              |        60.0        |       14.19        Yes \n",
      "---|------------------------------|--------------------|------------------------\n",
      " 8 |           PPO2(AI)           |        20.0        |       0.037         No \n",
      "---|------------------------------|--------------------|------------------------\n",
      " 9 |           Baldric            |        0.0         |         0           No \n",
      "Well played :)\n"
     ]
    }
   ],
   "source": [
    "import timed_challengeAI as qc\n",
    "from IPython.display import display\n",
    "print(\"Welcome to the QisCoin game\")\n",
    "qc.play(visualization_mode = \"mpl\")"
   ]
  },
  {
   "cell_type": "code",
   "execution_count": null,
   "metadata": {},
   "outputs": [],
   "source": []
  },
  {
   "cell_type": "code",
   "execution_count": null,
   "metadata": {},
   "outputs": [],
   "source": []
  }
 ],
 "metadata": {
  "kernelspec": {
   "display_name": "Python 3",
   "language": "python",
   "name": "python3"
  },
  "language_info": {
   "codemirror_mode": {
    "name": "ipython",
    "version": 3
   },
   "file_extension": ".py",
   "mimetype": "text/x-python",
   "name": "python",
   "nbconvert_exporter": "python",
   "pygments_lexer": "ipython3",
   "version": "3.7.2"
  }
 },
 "nbformat": 4,
 "nbformat_minor": 2
}
