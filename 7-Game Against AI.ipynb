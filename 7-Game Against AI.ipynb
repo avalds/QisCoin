{
 "cells": [
  {
   "cell_type": "markdown",
   "metadata": {},
   "source": [
    "# QisCoin Game against the AI\n",
    "Press the button >| Run to start.    \n",
    "It takes a short while for the packages to load the first time so be patient."
   ]
  },
  {
   "cell_type": "code",
   "execution_count": 1,
   "metadata": {},
   "outputs": [
    {
     "name": "stdout",
     "output_type": "stream",
     "text": [
      "YOU BEAT THE AI!!!!!!\n",
      "It was a highscore enter your name: One of many perfect games. Deterministic circuits are nice :) Hohohohoho\n",
      "highscores:\n",
      "No.|             Name             |     Score (%)      |     Time (sec)     Won?\n",
      "---|------------------------------|--------------------|------------------------\n",
      " 1 |One of many perfect games. Det|       100.0        |       18.31        Yes \n",
      "---|------------------------------|--------------------|------------------------\n",
      " 2 |             Man              |        80.0        |       11.55        Yes \n",
      "---|------------------------------|--------------------|------------------------\n",
      " 3 |                              |        60.0        |        9.82        Yes \n",
      "---|------------------------------|--------------------|------------------------\n",
      " 4 |           PPO2(AI)           |        40.0        |       0.035         No \n",
      "---|------------------------------|--------------------|------------------------\n",
      " 5 |           A2C(AI)            |        40.0        |       0.038         No \n",
      "---|------------------------------|--------------------|------------------------\n",
      " 6 |           ACER(AI)           |        40.0        |       0.043         No \n",
      "---|------------------------------|--------------------|------------------------\n",
      " 7 |           Baldric            |        0.0         |         0           No \n"
     ]
    }
   ],
   "source": [
    "import timed_challengeAI as qc\n",
    "from IPython.display import display\n",
    "print(\"Welcome to the QisCoin game\")\n",
    "qc.play(visualization_mode = \"mpl\")"
   ]
  },
  {
   "cell_type": "code",
   "execution_count": null,
   "metadata": {},
   "outputs": [],
   "source": []
  },
  {
   "cell_type": "code",
   "execution_count": null,
   "metadata": {},
   "outputs": [],
   "source": []
  }
 ],
 "metadata": {
  "kernelspec": {
   "display_name": "Python 3",
   "language": "python",
   "name": "python3"
  },
  "language_info": {
   "codemirror_mode": {
    "name": "ipython",
    "version": 3
   },
   "file_extension": ".py",
   "mimetype": "text/x-python",
   "name": "python",
   "nbconvert_exporter": "python",
   "pygments_lexer": "ipython3",
   "version": "3.7.2"
  }
 },
 "nbformat": 4,
 "nbformat_minor": 2
}
