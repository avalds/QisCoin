{
 "cells": [
  {
   "cell_type": "markdown",
   "metadata": {},
   "source": [
    "# Qcoin circuit\n",
    "press the >| Run to start.    \n",
    "It takes a short while for the packages to load the first time so be patient."
   ]
  },
  {
   "cell_type": "code",
   "execution_count": 1,
   "metadata": {},
   "outputs": [
    {
     "name": "stdout",
     "output_type": "stream",
     "text": [
      "You have won 5 of the 5 rounds you have played (100.0% winrate)\n",
      "Your time is: 10.23\n",
      "It was a highscore enter your name: 001531\n",
      "highscores:\n",
      "No.|             Name             |     Score (%)      |     Time (sec)     \n",
      "---|------------------------------|--------------------|--------------------\n",
      " 1 |            001531            |       100.0        |       10.23        \n",
      "---|------------------------------|--------------------|--------------------\n",
      " 2 |           Baldric            |        0.0         |         0          \n"
     ]
    }
   ],
   "source": [
    "import timed_game as qc\n",
    "from IPython.display import display\n",
    "print(\"Welcome to the Qcoin circuit\")\n",
    "qc.play(visualization_mode = \"mpl\")"
   ]
  },
  {
   "cell_type": "code",
   "execution_count": null,
   "metadata": {},
   "outputs": [],
   "source": []
  }
 ],
 "metadata": {
  "kernelspec": {
   "display_name": "Python 3",
   "language": "python",
   "name": "python3"
  },
  "language_info": {
   "codemirror_mode": {
    "name": "ipython",
    "version": 3
   },
   "file_extension": ".py",
   "mimetype": "text/x-python",
   "name": "python",
   "nbconvert_exporter": "python",
   "pygments_lexer": "ipython3",
   "version": "3.7.2"
  }
 },
 "nbformat": 4,
 "nbformat_minor": 2
}
