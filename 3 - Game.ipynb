{
 "cells": [
  {
   "cell_type": "markdown",
   "metadata": {},
   "source": [
    "# Qcoin circuit\n",
    "press the >| Run to start.    \n",
    "It takes a short while for the packages to load the first time so be patient."
   ]
  },
  {
   "cell_type": "code",
   "execution_count": 2,
   "metadata": {},
   "outputs": [
    {
     "name": "stdout",
     "output_type": "stream",
     "text": [
      "Welcome to the Qcoin circuit\n",
      "Do you want to play 5, 10 or 20 games? 5\n",
      "Do you want easy(e), medium(m) or hard(h) difficulty? 1\n",
      "Are you ready?>>>\n",
      "The timer starts in:\n",
      "3\n",
      "2\n",
      "1\n",
      "Go\n",
      "The circuit is!\n"
     ]
    },
    {
     "data": {
      "image/png": "[encoded data removed]",
      "text/plain": [
       "<Figure size 534.576x144.48 with 1 Axes>"
      ]
     },
     "metadata": {},
     "output_type": "display_data"
    },
    {
     "name": "stdout",
     "output_type": "stream",
     "text": [
      "heads(h)(1) or tails(t)(0)\n",
      "0\n",
      "congrats :)\n",
      "You have won 1 of the 1 rounds you have played (100.0% winrate)\n",
      "The circuit is!\n"
     ]
    },
    {
     "data": {
      "image/png": "[encoded data removed]",
      "text/plain": [
       "<Figure size 474.376x144.48 with 1 Axes>"
      ]
     },
     "metadata": {},
     "output_type": "display_data"
    },
    {
     "name": "stdout",
     "output_type": "stream",
     "text": [
      "heads(h)(1) or tails(t)(0)\n",
      "0\n",
      "congrats :)\n",
      "You have won 2 of the 2 rounds you have played (100.0% winrate)\n",
      "The circuit is!\n"
     ]
    },
    {
     "data": {
      "image/png": "[encoded data removed]",
      "text/plain": [
       "<Figure size 474.376x144.48 with 1 Axes>"
      ]
     },
     "metadata": {},
     "output_type": "display_data"
    },
    {
     "name": "stdout",
     "output_type": "stream",
     "text": [
      "heads(h)(1) or tails(t)(0)\n",
      "1\n",
      "congrats :)\n",
      "You have won 3 of the 3 rounds you have played (100.0% winrate)\n",
      "The circuit is!\n"
     ]
    },
    {
     "data": {
      "image/png": "[encoded data removed]",
      "text/plain": [
       "<Figure size 414.176x144.48 with 1 Axes>"
      ]
     },
     "metadata": {},
     "output_type": "display_data"
    },
    {
     "name": "stdout",
     "output_type": "stream",
     "text": [
      "heads(h)(1) or tails(t)(0)\n",
      "0\n",
      "congrats :)\n",
      "You have won 4 of the 4 rounds you have played (100.0% winrate)\n",
      "The circuit is!\n"
     ]
    },
    {
     "data": {
      "image/png": "[encoded data removed]",
      "text/plain": [
       "<Figure size 474.376x144.48 with 1 Axes>"
      ]
     },
     "metadata": {},
     "output_type": "display_data"
    },
    {
     "name": "stdout",
     "output_type": "stream",
     "text": [
      "heads(h)(1) or tails(t)(0)\n",
      "0\n",
      "congrats :)\n",
      "You have won 5 of the 5 rounds you have played (100.0% winrate)\n",
      "Your time is: 6.16\n",
      "It was a highscore enter your name: Fast enough\n",
      "highscores:\n",
      "No.|        Name        |     Score (%)      |     Time (sec)     \n",
      "---|--------------------|--------------------|--------------------\n",
      " 1 |    Fast enough     |       100.0        |       6.16\n",
      "        \n",
      "---|--------------------|--------------------|--------------------\n",
      " 2 |    Not so fast     |       100.0        |       8.97\n",
      "        \n",
      "---|--------------------|--------------------|--------------------\n",
      " 3 |      Baldric       |        0.0         |         0\n",
      "         \n"
     ]
    }
   ],
   "source": [
    "import timed_game as qc\n",
    "from IPython.display import display\n",
    "print(\"Welcome to the Qcoin circuit\")\n",
    "qc.play(visualization_mode = \"mpl\")"
   ]
  },
  {
   "cell_type": "code",
   "execution_count": null,
   "metadata": {},
   "outputs": [],
   "source": []
  }
 ],
 "metadata": {
  "kernelspec": {
   "display_name": "Python 3",
   "language": "python",
   "name": "python3"
  },
  "language_info": {
   "codemirror_mode": {
    "name": "ipython",
    "version": 3
   },
   "file_extension": ".py",
   "mimetype": "text/x-python",
   "name": "python",
   "nbconvert_exporter": "python",
   "pygments_lexer": "ipython3",
   "version": "3.7.2"
  }
 },
 "nbformat": 4,
 "nbformat_minor": 2
}
