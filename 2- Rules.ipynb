{
 "cells": [
  {
   "cell_type": "markdown",
   "metadata": {},
   "source": [
    "# Rules of QisCoin\n",
    "This notebook explains the aim and the rules of **QisCoin**."
   ]
  },
  {
   "cell_type": "markdown",
   "metadata": {},
   "source": [
    "## Purpose of QisCoin\n",
    "The aim of the game is to teach the basic of quantum gates. During each play, you will be presented with a quantum circuit containing random 1 qubit gates, and your objective is to guess or calculate the output of the circuit when measured."
   ]
  },
  {
   "cell_type": "markdown",
   "metadata": {},
   "source": [
    "## Flow of QisCoin\n",
    "1. Open the [game notebook](3-%20Game.ipynb) and run it function using run button (or super + enter)\n",
    "2. Choose how many rounds you want to play: 5, 10 or 20.\n",
    "3. Choose the difficulty level: Easy, Medium or Hard.\n",
    "4. You will be asked to confirm that you are ready.\n",
    "5. A countdown will start, counting down from 3.\n",
    "6. When it reaches 0, the game will starts. (In the beggining we suggest taking your time, and try to speed up later).\n",
    "7. You are presented a circuit, and you should guess/calculate the output of the circuit: heads (1) or tails (0)\n",
    "8. If you guess correct you get 1 point, else you obtain 0 points. Return to step 7, unless you have played the amount of games chosen in step 2.\n",
    "9. If you achieved a high score, enter your name to be added to the highscore table.\n",
    "10. The previous highscores are shown and the game ends. To play again run the function again."
   ]
  },
  {
   "cell_type": "markdown",
   "metadata": {},
   "source": [
    "### Levels of difficulty\n",
    "\n",
    "##### Easy \n",
    "The *easy* setting constructs a circuit with 3 randomly chosen quantum gates and 1 measurment gate at the end. The quantum gates are chosen with uniform probability among the following deterministic gates:\n",
    "    1. The X gate\n",
    "    2. Reset operation\n",
    "    3. ID gate (the absence of a gate)\n",
    "(For gate details see: https://quantum-computing.ibm.com/support/guides/gate-overview?section=5d00d964853ef8003c6d6820)\n",
    "\n",
    "##### Medium\n",
    "The *medium* setting constructs a circuit with 6 randomly chosen quantum gates and 1 measurment gate at the end. The quantum gates are chosen with uniform probability among the following gates:\n",
    "    1. The X gate\n",
    "    2. Reset operation\n",
    "    3. ID gate (the absence of a gate)\n",
    "    4. H gate\n",
    "    5. T gate\n",
    "    6. Inverse T gate\n",
    "(For gate details see: https://quantum-computing.ibm.com/support/guides/gate-overview?section=5d00d964853ef8003c6d6820)\n",
    "\n",
    "##### Hard\n",
    "The *hard* setting constructs a circuit with 10 randomly chosen quantum gates and 1 measurment gate at the end. The quantum gates are chosen with uniform probability among the following gates:\n",
    "    1. The X gate\n",
    "    2. Reset operation\n",
    "    3. ID gate (the absence of a gate)\n",
    "    4. H gate (probability 2/11 of being drawn, the others have 1/11)\n",
    "    5. T gate\n",
    "    6. Inverse T gate\n",
    "    7. Y gate\n",
    "    8. Z gate\n",
    "    9. S gate\n",
    "    10. Inverse S gate\n",
    "(For gate details see: https://quantum-computing.ibm.com/support/guides/gate-overview?section=5d00d964853ef8003c6d6820)"
   ]
  },
  {
   "cell_type": "markdown",
   "metadata": {},
   "source": [
    "## Playing QisCoin against the AI\n",
    "\n",
    "It is possible to play **QisCoin** against an AI in [this notebook](7-%20Game%20Against%20AI.ipynb). The artificial agents deployed in this notebook are the reinforcement learning agents trained on **QisCoin** in the [preceding notebook](5-%20AI%20Agent%20v1.ipynb).\n",
    "\n",
    "In this variant of **QisCoin** you will compete with an AI. Both of you will be presented with a quantum circuit and you will have to compute or guess the measurement output independently. Whoever guesses the highest number of measurements is the winner. The game is always played on *Medium* difficulty using 6 random gates, because the AI has been trained only on this setting.\n",
    "\n",
    "### Flow of Qiscoin against the AI\n",
    "1. Open the [game notebook](7-%20Game%20Against%20AI.ipynb) and run it function using run button (or super + enter)\n",
    "2. Choose how many rounds you want to play: 5, 10 or 20.\n",
    "3. Choose the opponent AI: PPO2, A2C or ACER.\n",
    "4. You will be asked to confirm that you are ready. \n",
    "5. The timer will start when you press this button.\n",
    "6. You are presented a circuit, and you should guess/calculate the output of the circuit: heads (1) or tails (0). Your timer ends and the AI's timer starts as it gets to see the circuit.\n",
    "7. The AI guesses/calculates what it thinks the measurement will give.\n",
    "8. The circuit is evaluated, and points distributed:\n",
    "  1. If you are correct you get 1 point else 0  \n",
    "  2. If the AI is correct it gets 1 point else 0  \n",
    "9. Return to step 4, unless you have played the amount of games chosen in step 2.\n",
    "10. The game checks if you or the AI got a high score. If either of you achieved it, your name is entered into the high score table.\n",
    "11. The previous highscores are shown and the game ends. To play again run the function again."
   ]
  },
  {
   "cell_type": "code",
   "execution_count": null,
   "metadata": {},
   "outputs": [],
   "source": []
  }
 ],
 "metadata": {
  "kernelspec": {
   "display_name": "Python 3",
   "language": "python",
   "name": "python3"
  },
  "language_info": {
   "codemirror_mode": {
    "name": "ipython",
    "version": 3
   },
   "file_extension": ".py",
   "mimetype": "text/x-python",
   "name": "python",
   "nbconvert_exporter": "python",
   "pygments_lexer": "ipython3",
   "version": "3.7.5"
  }
 },
 "nbformat": 4,
 "nbformat_minor": 2
}
