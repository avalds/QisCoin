{
 "cells": [
  {
   "cell_type": "markdown",
   "metadata": {},
   "source": [
    "# Rules"
   ]
  },
  {
   "cell_type": "markdown",
   "metadata": {},
   "source": [
    "## Purpose of the game\n",
    "This is game which helps you train on basic 1 qubit gates, by guessing or calculating the output of a given circuit when measured."
   ]
  },
  {
   "cell_type": "markdown",
   "metadata": {},
   "source": [
    "## Flow of the game\n",
    "1. Run the function using run button (or super + enter)\n",
    "2. Choose how many rounds you want to play 5, 10 or 20.\n",
    "3. Choose the difficulty: Easy, Medium or Hard.   \n",
    "\n",
    "##### Easy \n",
    "Constructs a circuit with 1 measurment gate at the end and 3 randomly chosen gates chosen among:\n",
    "    1. The X gate (probabilty 1/3 same as the others)\n",
    "    2. Reset operation\n",
    "    3. ID gate (the absence of a gate)\n",
    "(For gate details see: https://quantum-computing.ibm.com/support/guides/gate-overview?section=5d00d964853ef8003c6d6820)\n",
    "\n",
    "##### Medium\n",
    "Constructs a circuit with 1 measurment gate at the end and 6 randomly chosen gates chosen among:\n",
    "    1. The X gate (probability 1/6 same as the others)\n",
    "    2. Reset operation\n",
    "    3. ID gate (the absence of a gate)\n",
    "    4. H gate\n",
    "    5. T gate\n",
    "    6. Inverse T gate\n",
    "(For gate details see: https://quantum-computing.ibm.com/support/guides/gate-overview?section=5d00d964853ef8003c6d6820)\n",
    "\n",
    "##### Hard\n",
    "Constructs a circuit with 1 measurment gate at the end and 10 randomly chosen gates chosen among:\n",
    "    1. The X gate\n",
    "    2. Reset operation\n",
    "    3. ID gate (the absence of a gate)\n",
    "    4. H gate (probability 2/11 of being drawn, the others have 1/11)\n",
    "    5. T gate\n",
    "    6. Inverse T gate\n",
    "    7. Y gate\n",
    "    8. Z gate\n",
    "    9. S gate\n",
    "    10. Inverse S gate\n",
    "(For gate details see: https://quantum-computing.ibm.com/support/guides/gate-overview?section=5d00d964853ef8003c6d6820)\n",
    "\n",
    "4. You are given a gate, and should guess/calculate the output of the circuit: Heads (1) or tails (0)\n",
    "5. If you guess correct you get 1 point else 0 points. Then you return to 4. unless you have played as many games as you chose in step 2.\n",
    "6. If it is a highscore you add your name to the highscore table.\n",
    "7. The previous highscores are shown and the game ends. To play again run the function again.\n"
   ]
  },
  {
   "cell_type": "code",
   "execution_count": null,
   "metadata": {},
   "outputs": [],
   "source": []
  }
 ],
 "metadata": {
  "kernelspec": {
   "display_name": "Python 3",
   "language": "python",
   "name": "python3"
  },
  "language_info": {
   "codemirror_mode": {
    "name": "ipython",
    "version": 3
   },
   "file_extension": ".py",
   "mimetype": "text/x-python",
   "name": "python",
   "nbconvert_exporter": "python",
   "pygments_lexer": "ipython3",
   "version": "3.7.2"
  }
 },
 "nbformat": 4,
 "nbformat_minor": 2
}
