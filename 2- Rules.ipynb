{
 "cells": [
  {
   "cell_type": "markdown",
   "metadata": {},
   "source": [
    "# Rules"
   ]
  },
  {
   "cell_type": "markdown",
   "metadata": {},
   "source": [
    "## Purpose of the game\n",
    "This is game which helps you train on basic 1 qubit gates, by guessing or calculating the output of a given circuit when measured."
   ]
  },
  {
   "cell_type": "markdown",
   "metadata": {},
   "source": [
    "## Flow of the game\n",
    "1. Run the function using run button (or super + enter)\n",
    "2. Choose how many rounds you want to play 5, 10 or 20.\n",
    "3. Choose the difficulty: Easy, Medium or Hard.   \n",
    "\n",
    "##### Easy \n",
    "Constructs a circuit with 1 measurment gate at the end and 3 randomly chosen gates chosen among:\n",
    "    1. The X gate (probabilty 1/3 same as the others)\n",
    "    2. Reset operation\n",
    "    3. ID gate (the absence of a gate)\n",
    "(For gate details see: https://quantum-computing.ibm.com/support/guides/gate-overview?section=5d00d964853ef8003c6d6820)\n",
    "\n",
    "##### Medium\n",
    "Constructs a circuit with 1 measurment gate at the end and 6 randomly chosen gates chosen among:\n",
    "    1. The X gate (probability 1/6 same as the others)\n",
    "    2. Reset operation\n",
    "    3. ID gate (the absence of a gate)\n",
    "    4. H gate\n",
    "    5. T gate\n",
    "    6. Inverse T gate\n",
    "(For gate details see: https://quantum-computing.ibm.com/support/guides/gate-overview?section=5d00d964853ef8003c6d6820)\n",
    "\n",
    "##### Hard\n",
    "Constructs a circuit with 1 measurment gate at the end and 10 randomly chosen gates chosen among:\n",
    "    1. The X gate\n",
    "    2. Reset operation\n",
    "    3. ID gate (the absence of a gate)\n",
    "    4. H gate (probability 2/11 of being drawn, the others have 1/11)\n",
    "    5. T gate\n",
    "    6. Inverse T gate\n",
    "    7. Y gate\n",
    "    8. Z gate\n",
    "    9. S gate\n",
    "    10. Inverse S gate\n",
    "(For gate details see: https://quantum-computing.ibm.com/support/guides/gate-overview?section=5d00d964853ef8003c6d6820)\n",
    "\n",
    "4. You will be asked to confirm that you are ready.\n",
    "5. A countdown will start, counting down from 3.\n",
    "6. When it reaches 0, the game will starts. (In the beggining we suggest taking your time, and try to speed up later).\n",
    "7. You are given a circuit, and should guess/calculate the output of the circuit: Heads (1) or tails (0)\n",
    "8. If you guess correct you get 1 point else 0 points. Then you return to 7. unless you have played as many games as you chose in step 2.\n",
    "9. If it is a highscore, you add your name to the highscore table.\n",
    "10. The previous highscores are shown and the game ends. To play again run the function again.\n"
   ]
  },
  {
   "cell_type": "markdown",
   "metadata": {},
   "source": [
    "## The \"7-Game Against AI\" variant\n",
    "The flow of this variant is similar to the main variant except this time you compete against an AI.\n",
    "### Short description\n",
    "This version changes the following steps:  \n",
    "Step 3. The AI's only plays **Medium** difficulty so you will not be prompted to select difficulty instead you select the AI you are playing against.  \n",
    "Steps 5 and 6 are different as there is no countdown.  \n",
    "At step 7 after you have guessed the timer for the AI starts and it tries to also guess on the circuit.  \n",
    "Step 8 Then finally the circuit is evaluated.   \n",
    "   If you are correct you get 1 point else 0  \n",
    "   If the AI is correct it gets 1 point else 0  \n",
    "You then return to step 4. where you are asked to press enter when you are ready for the next circuit. If you have completed the desired numper of rounds you continue to step 9.\n",
    "### Long description\n",
    "1. Run the function using run button (or super + enter)\n",
    "2. Choose how many rounds you want to play 5, 10 or 20.\n",
    "3. Choose the AI: PPO2(p)(1), A2C(a)(2) or ACER(c)(3)\n",
    "4. You will be asked to confirm that you are ready. The timer will start when you press this button.\n",
    "5. You will be given a circuit which you are to guess/calculate whether it will be measured to be heads(1) or tails(0). (Your timer ends and the AI's timer starts as it gets to see the circuit.)\n",
    "6. The AI guesses/calculates what it thinks the measurement will give.\n",
    "7. The circuit is evaluated, and points distributed:\n",
    "  1. If you are correct you get 1 point else 0  \n",
    "  2. If the AI is correct it gets 1 point else 0  \n",
    "8. If you have not completed the number of rounds asked in 2. start from 4 again. else go to step  9.\n",
    "9. The game checks if you or the AI got a HIGHSCORE. If either of you get it it is added to the table.\n",
    "10. The previous highscores are shown and the game ends. To play again run the function again."
   ]
  },
  {
   "cell_type": "code",
   "execution_count": null,
   "metadata": {},
   "outputs": [],
   "source": []
  }
 ],
 "metadata": {
  "kernelspec": {
   "display_name": "Python 3",
   "language": "python",
   "name": "python3"
  },
  "language_info": {
   "codemirror_mode": {
    "name": "ipython",
    "version": 3
   },
   "file_extension": ".py",
   "mimetype": "text/x-python",
   "name": "python",
   "nbconvert_exporter": "python",
   "pygments_lexer": "ipython3",
   "version": "3.7.2"
  }
 },
 "nbformat": 4,
 "nbformat_minor": 2
}
